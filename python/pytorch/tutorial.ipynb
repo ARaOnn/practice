{
 "cells": [
  {
   "cell_type": "markdown",
   "metadata": {},
   "source": [
    "# 1. Tensor"
   ]
  },
  {
   "cell_type": "code",
   "execution_count": 2,
   "metadata": {},
   "outputs": [],
   "source": [
    "import torch\n",
    "import numpy as np"
   ]
  },
  {
   "cell_type": "markdown",
   "metadata": {},
   "source": [
    "### 1.1 Init"
   ]
  },
  {
   "cell_type": "code",
   "execution_count": 3,
   "metadata": {},
   "outputs": [
    {
     "name": "stdout",
     "output_type": "stream",
     "text": [
      "[[1, 2], [3, 4]]\n",
      "tensor([[1, 2],\n",
      "        [3, 4]])\n"
     ]
    }
   ],
   "source": [
    "# data -> torch\n",
    "data = [[1,2], [3,4]]\n",
    "x_data = torch.tensor(data)\n",
    "print(data)\n",
    "print(x_data)"
   ]
  },
  {
   "cell_type": "code",
   "execution_count": 4,
   "metadata": {},
   "outputs": [
    {
     "name": "stdout",
     "output_type": "stream",
     "text": [
      "[[1 2]\n",
      " [3 4]]\n",
      "tensor([[1, 2],\n",
      "        [3, 4]], dtype=torch.int32)\n"
     ]
    }
   ],
   "source": [
    "# numpy -> torch\n",
    "np_array = np.array(data)\n",
    "x_np = torch.from_numpy(np_array)\n",
    "print(np_array)\n",
    "print(x_np)"
   ]
  },
  {
   "cell_type": "code",
   "execution_count": 5,
   "metadata": {},
   "outputs": [
    {
     "name": "stdout",
     "output_type": "stream",
     "text": [
      "Ones Tensor: \n",
      " tensor([[1, 1],\n",
      "        [1, 1]]) \n",
      "\n",
      "Random Tensor: \n",
      " tensor([[0.6986, 0.6808],\n",
      "        [0.7753, 0.1635]]) \n",
      "\n"
     ]
    }
   ],
   "source": [
    "# from other\n",
    "x_ones = torch.ones_like(x_data)\n",
    "print(f\"Ones Tensor: \\n {x_ones} \\n\")\n",
    "\n",
    "x_rand = torch.rand_like(x_data, dtype=torch.float)\n",
    "print(f\"Random Tensor: \\n {x_rand} \\n\")"
   ]
  },
  {
   "cell_type": "code",
   "execution_count": 6,
   "metadata": {},
   "outputs": [
    {
     "name": "stdout",
     "output_type": "stream",
     "text": [
      "Random Tensor: \n",
      " tensor([[0.2585, 0.2173, 0.0655],\n",
      "        [0.6066, 0.8577, 0.9152]]) \n",
      "\n",
      "Ones Tensor: \n",
      " tensor([[1., 1., 1.],\n",
      "        [1., 1., 1.]]) \n",
      "\n",
      "Zeros Tensor: \n",
      " tensor([[0., 0., 0.],\n",
      "        [0., 0., 0.]])\n"
     ]
    }
   ],
   "source": [
    "# random or constant\n",
    "shape = (2, 3)\n",
    "rand_tensor = torch.rand(shape)\n",
    "ones_tensor = torch.ones(shape)\n",
    "zeros_tensor = torch.zeros(shape)\n",
    "\n",
    "print(f\"Random Tensor: \\n {rand_tensor} \\n\")\n",
    "print(f\"Ones Tensor: \\n {ones_tensor} \\n\")\n",
    "print(f\"Zeros Tensor: \\n {zeros_tensor}\")"
   ]
  },
  {
   "cell_type": "markdown",
   "metadata": {},
   "source": [
    "### 1.2 Attribute"
   ]
  },
  {
   "cell_type": "code",
   "execution_count": 7,
   "metadata": {},
   "outputs": [
    {
     "name": "stdout",
     "output_type": "stream",
     "text": [
      "tensor([[0.3589, 0.3494, 0.2326, 0.5337],\n",
      "        [0.1211, 0.5122, 0.9305, 0.7573],\n",
      "        [0.1712, 0.1756, 0.3264, 0.7389]])\n",
      "Shape of tensor: torch.Size([3, 4])\n",
      "Datatype of tensor: torch.float32\n",
      "Device tensor is stored on: cpu\n"
     ]
    }
   ],
   "source": [
    "tensor = torch.rand(3, 4)\n",
    "\n",
    "print(tensor)\n",
    "print(f\"Shape of tensor: {tensor.shape}\")\n",
    "print(f\"Datatype of tensor: {tensor.dtype}\")\n",
    "print(f\"Device tensor is stored on: {tensor.device}\")"
   ]
  },
  {
   "cell_type": "markdown",
   "metadata": {},
   "source": [
    "### 1.3 Operation"
   ]
  },
  {
   "cell_type": "code",
   "execution_count": 8,
   "metadata": {},
   "outputs": [
    {
     "name": "stdout",
     "output_type": "stream",
     "text": [
      "cuda:0\n"
     ]
    }
   ],
   "source": [
    "if torch.cuda.is_available():\n",
    "    tensor = tensor.to('cuda')\n",
    "\n",
    "print(tensor.device)"
   ]
  },
  {
   "cell_type": "code",
   "execution_count": 9,
   "metadata": {},
   "outputs": [
    {
     "name": "stdout",
     "output_type": "stream",
     "text": [
      "First row : tensor([1., 1., 1., 1.])\n",
      "First column : tensor([1., 1., 1., 1.])\n",
      "Last column : tensor([1., 1., 1., 1.])\n",
      "tensor([[1., 0., 1., 1.],\n",
      "        [1., 0., 1., 1.],\n",
      "        [1., 0., 1., 1.],\n",
      "        [1., 0., 1., 1.]])\n"
     ]
    }
   ],
   "source": [
    "# Numpy indexing & slice\n",
    "tensor = torch.ones(4, 4)\n",
    "print(f'First row : {tensor[0]}')\n",
    "print(f'First column : {tensor[:,0]}')\n",
    "print(f'Last column : {tensor[:, -1]}')\n",
    "tensor[:, 1] = 0\n",
    "print(tensor)"
   ]
  },
  {
   "cell_type": "code",
   "execution_count": 10,
   "metadata": {},
   "outputs": [
    {
     "name": "stdout",
     "output_type": "stream",
     "text": [
      "torch.Size([12, 4])\n",
      "tensor([[1., 0., 1., 1.],\n",
      "        [1., 0., 1., 1.],\n",
      "        [1., 0., 1., 1.],\n",
      "        [1., 0., 1., 1.],\n",
      "        [1., 0., 1., 1.],\n",
      "        [1., 0., 1., 1.],\n",
      "        [1., 0., 1., 1.],\n",
      "        [1., 0., 1., 1.],\n",
      "        [1., 0., 1., 1.],\n",
      "        [1., 0., 1., 1.],\n",
      "        [1., 0., 1., 1.],\n",
      "        [1., 0., 1., 1.]])\n",
      "torch.Size([4, 12])\n",
      "tensor([[1., 0., 1., 1., 1., 0., 1., 1., 1., 0., 1., 1.],\n",
      "        [1., 0., 1., 1., 1., 0., 1., 1., 1., 0., 1., 1.],\n",
      "        [1., 0., 1., 1., 1., 0., 1., 1., 1., 0., 1., 1.],\n",
      "        [1., 0., 1., 1., 1., 0., 1., 1., 1., 0., 1., 1.]])\n"
     ]
    }
   ],
   "source": [
    "# merge\n",
    "t1 = torch.cat([tensor, tensor, tensor], dim=0)\n",
    "print(t1.shape)\n",
    "print(t1)\n",
    "\n",
    "t1 = torch.cat([tensor, tensor, tensor], dim=1)\n",
    "print(t1.shape)\n",
    "print(t1)"
   ]
  },
  {
   "cell_type": "code",
   "execution_count": 11,
   "metadata": {},
   "outputs": [
    {
     "name": "stdout",
     "output_type": "stream",
     "text": [
      "tensor([[3., 3., 3., 3.],\n",
      "        [3., 3., 3., 3.],\n",
      "        [3., 3., 3., 3.],\n",
      "        [3., 3., 3., 3.]])\n",
      "tensor([[3., 3., 3., 3.],\n",
      "        [3., 3., 3., 3.],\n",
      "        [3., 3., 3., 3.],\n",
      "        [3., 3., 3., 3.]])\n",
      "tensor([[3., 3., 3., 3.],\n",
      "        [3., 3., 3., 3.],\n",
      "        [3., 3., 3., 3.],\n",
      "        [3., 3., 3., 3.]])\n",
      "tensor([[1., 0., 1., 1.],\n",
      "        [1., 0., 1., 1.],\n",
      "        [1., 0., 1., 1.],\n",
      "        [1., 0., 1., 1.]])\n",
      "tensor([[1., 0., 1., 1.],\n",
      "        [1., 0., 1., 1.],\n",
      "        [1., 0., 1., 1.],\n",
      "        [1., 0., 1., 1.]])\n",
      "tensor([[1., 0., 1., 1.],\n",
      "        [1., 0., 1., 1.],\n",
      "        [1., 0., 1., 1.],\n",
      "        [1., 0., 1., 1.]])\n"
     ]
    },
    {
     "name": "stderr",
     "output_type": "stream",
     "text": [
      "C:\\Users\\JHY\\AppData\\Local\\Temp\\ipykernel_12180\\713940264.py:6: UserWarning: An output with one or more elements was resized since it had shape [4, 12], which does not match the required output shape [4, 4]. This behavior is deprecated, and in a future PyTorch release outputs will not be resized unless they have zero elements. You can explicitly reuse an out tensor t by resizing it, inplace, to zero elements with t.resize_(0). (Triggered internally at ..\\aten\\src\\ATen\\native\\Resize.cpp:35.)\n",
      "  torch.matmul(tensor, tensor.T, out=y3)\n"
     ]
    }
   ],
   "source": [
    "# Arithmetic\n",
    "# matrix multiplication\n",
    "y1 = tensor @ tensor.T\n",
    "y2 = tensor.matmul(tensor.T)\n",
    "y3 = torch.rand_like(t1)\n",
    "torch.matmul(tensor, tensor.T, out=y3)\n",
    "print(y1, y2, y3, sep='\\n')\n",
    "\n",
    "# element-wise\n",
    "z1 = tensor * tensor\n",
    "z2 = tensor.mul(tensor)\n",
    "z3 = torch.rand_like(tensor)\n",
    "torch.mul(z1, z2, out=z3)\n",
    "print(z1, z2, z3, sep='\\n')"
   ]
  },
  {
   "cell_type": "code",
   "execution_count": 12,
   "metadata": {},
   "outputs": [
    {
     "name": "stdout",
     "output_type": "stream",
     "text": [
      "tensor(12.) <class 'torch.Tensor'>\n",
      "12.0 <class 'float'>\n"
     ]
    }
   ],
   "source": [
    "# tensor*tensor\n",
    "agg = tensor.sum()\n",
    "agg_item = agg.item()\n",
    "print(agg, type(agg))\n",
    "print(agg_item, type(agg_item))"
   ]
  },
  {
   "cell_type": "code",
   "execution_count": 13,
   "metadata": {},
   "outputs": [
    {
     "name": "stdout",
     "output_type": "stream",
     "text": [
      "tensor([[1., 0., 1., 1.],\n",
      "        [1., 0., 1., 1.],\n",
      "        [1., 0., 1., 1.],\n",
      "        [1., 0., 1., 1.]])\n",
      "\n",
      "tensor([[6., 5., 6., 6.],\n",
      "        [6., 5., 6., 6.],\n",
      "        [6., 5., 6., 6.],\n",
      "        [6., 5., 6., 6.]])\n"
     ]
    }
   ],
   "source": [
    "# in-place\n",
    "print(f'{tensor}\\n')\n",
    "tensor.add_(5)\n",
    "print(tensor)"
   ]
  },
  {
   "cell_type": "markdown",
   "metadata": {},
   "source": [
    "### 1.4 numpy <-> torch"
   ]
  },
  {
   "cell_type": "code",
   "execution_count": 14,
   "metadata": {},
   "outputs": [
    {
     "name": "stdout",
     "output_type": "stream",
     "text": [
      "t : tensor([1., 1., 1., 1., 1.])\n",
      "n : [1. 1. 1. 1. 1.]\n"
     ]
    }
   ],
   "source": [
    "# CPU 상의 텐서와 NumPy 배열은 메모리 공간을 공유하기 때문에, 하나를 변경하면 다른 하나도 변경됨\n",
    "\n",
    "t = torch.ones(5)\n",
    "print(f't : {t}')\n",
    "n = t.numpy()\n",
    "print(f'n : {n}')"
   ]
  },
  {
   "cell_type": "code",
   "execution_count": 15,
   "metadata": {},
   "outputs": [
    {
     "name": "stdout",
     "output_type": "stream",
     "text": [
      "t : tensor([2., 2., 2., 2., 2.])\n",
      "n : [2. 2. 2. 2. 2.]\n"
     ]
    }
   ],
   "source": [
    "t.add_(1)\n",
    "print(f't : {t}')\n",
    "print(f'n : {n}')"
   ]
  },
  {
   "cell_type": "code",
   "execution_count": 16,
   "metadata": {},
   "outputs": [],
   "source": [
    "# np -> torch\n",
    "n = np.ones(5)\n",
    "t = torch.from_numpy(n)"
   ]
  },
  {
   "cell_type": "code",
   "execution_count": 17,
   "metadata": {},
   "outputs": [
    {
     "name": "stdout",
     "output_type": "stream",
     "text": [
      "t: tensor([2., 2., 2., 2., 2.], dtype=torch.float64)\n",
      "n: [2. 2. 2. 2. 2.]\n"
     ]
    }
   ],
   "source": [
    "np.add(n, 1, out=n)\n",
    "print(f\"t: {t}\")\n",
    "print(f\"n: {n}\")"
   ]
  },
  {
   "cell_type": "markdown",
   "metadata": {},
   "source": [
    "# 2. DATASET & DATALOADER"
   ]
  },
  {
   "cell_type": "code",
   "execution_count": 18,
   "metadata": {},
   "outputs": [],
   "source": [
    "import torch\n",
    "from torch.utils.data import Dataset\n",
    "from torchvision import datasets\n",
    "from torchvision.transforms import ToTensor\n",
    "import matplotlib.pyplot as plt "
   ]
  },
  {
   "cell_type": "code",
   "execution_count": 19,
   "metadata": {},
   "outputs": [],
   "source": [
    "training_data = datasets.FashionMNIST(root='../../data/', \n",
    "                                      train=True,\n",
    "                                      download=True,\n",
    "                                      transform=ToTensor())\n",
    "\n",
    "test_data = datasets.FashionMNIST(root='../../data/',\n",
    "                                  train=False,\n",
    "                                  download=True,\n",
    "                                  transform=ToTensor())"
   ]
  },
  {
   "cell_type": "code",
   "execution_count": 20,
   "metadata": {},
   "outputs": [
    {
     "data": {
      "image/png": "[encoded data removed]",
      "text/plain": [
       "<Figure size 800x800 with 9 Axes>"
      ]
     },
     "metadata": {},
     "output_type": "display_data"
    }
   ],
   "source": [
    "labels_map = {\n",
    "    0: \"T-Shirt\",\n",
    "    1: \"Trouser\",\n",
    "    2: \"Pullover\",\n",
    "    3: \"Dress\",\n",
    "    4: \"Coat\",\n",
    "    5: \"Sandal\",\n",
    "    6: \"Shirt\",\n",
    "    7: \"Sneaker\",\n",
    "    8: \"Bag\",\n",
    "    9: \"Ankle Boot\",\n",
    "}\n",
    "\n",
    "figure = plt.figure(figsize=(8, 8))\n",
    "cols, rows = 3, 3\n",
    "\n",
    "for i in range(1, cols*rows+1):\n",
    "    sample_idx = torch.randint(len(training_data), size=(1,)).item()\n",
    "    img, label = training_data[sample_idx]\n",
    "    figure.add_subplot(rows, cols, i)\n",
    "    plt.axis('off')\n",
    "    plt.title(labels_map[label])\n",
    "    plt.imshow(img.squeeze(), cmap='gray')\n",
    "plt.show()"
   ]
  },
  {
   "cell_type": "code",
   "execution_count": 21,
   "metadata": {},
   "outputs": [],
   "source": [
    "# Custom Dataset\n",
    "import os\n",
    "import pandas as pd\n",
    "from torchvision.io import read_image\n",
    "\n",
    "class CustomImageDataset(Dataset):\n",
    "    def __init__(self, annotation_file, img_dir, transform=None, target_transform=None):\n",
    "        self.img_labels = pd.read_csv(annotation_file, names=['file_name', 'label'])\n",
    "        self.img_dir = img_dir\n",
    "        self.transform = transform\n",
    "        self.target_transform = target_transform\n",
    "\n",
    "    def __len__(self):\n",
    "        return len(self.img_labels)\n",
    "    \n",
    "    def __getitem__(self, idx):\n",
    "        # 주어진 인덱스 idx 에 해당하는 샘플을 데이터셋에서 불러오고 반환\n",
    "        img_path = os.paht.join(self.img_dir, self.img_labels.iloc[idx, 0])\n",
    "        image = read_image(img_path)\n",
    "        label = self.img_labels.iloc[idx, 1]\n",
    "        if self.transform:\n",
    "            image = self.transform(image)\n",
    "        if self.target_transform:\n",
    "            label = self.target_transform(label)\n",
    "        return image, label"
   ]
  },
  {
   "cell_type": "code",
   "execution_count": 22,
   "metadata": {},
   "outputs": [],
   "source": [
    "from torch.utils.data import DataLoader\n",
    "\n",
    "train_dataloader = DataLoader(training_data, batch_size=64, shuffle=True)\n",
    "test_dataloader = DataLoader(test_data, batch_size=64, shuffle=True)"
   ]
  },
  {
   "cell_type": "code",
   "execution_count": 23,
   "metadata": {},
   "outputs": [
    {
     "name": "stdout",
     "output_type": "stream",
     "text": [
      "Feature batch shape: torch.Size([64, 1, 28, 28])\n",
      "Labels batch shape: torch.Size([64])\n"
     ]
    },
    {
     "data": {
      "image/png": "[encoded data removed]",
      "text/plain": [
       "<Figure size 640x480 with 1 Axes>"
      ]
     },
     "metadata": {},
     "output_type": "display_data"
    },
    {
     "name": "stdout",
     "output_type": "stream",
     "text": [
      "Label : 8\n"
     ]
    }
   ],
   "source": [
    "train_features, train_labels = next(iter(train_dataloader))\n",
    "print(f\"Feature batch shape: {train_features.size()}\")\n",
    "print(f\"Labels batch shape: {train_labels.size()}\")\n",
    "img = train_features[0].squeeze()\n",
    "label = train_labels[0]\n",
    "plt.imshow(img, cmap='gray')\n",
    "plt.show()\n",
    "print(f'Label : {label}')"
   ]
  },
  {
   "cell_type": "markdown",
   "metadata": {},
   "source": [
    "# 3. Model"
   ]
  },
  {
   "cell_type": "code",
   "execution_count": 27,
   "metadata": {},
   "outputs": [],
   "source": [
    "import os\n",
    "import torch\n",
    "from torch import nn\n",
    "from torch.utils.data import DataLoader\n",
    "from torchvision import datasets, transforms"
   ]
  },
  {
   "cell_type": "code",
   "execution_count": 28,
   "metadata": {},
   "outputs": [
    {
     "name": "stdout",
     "output_type": "stream",
     "text": [
      "Using cuda device\n"
     ]
    }
   ],
   "source": [
    "device = ('cuda' if torch.cuda.is_available() else 'cpu')\n",
    "print(f'Using {device} device')"
   ]
  },
  {
   "cell_type": "code",
   "execution_count": 30,
   "metadata": {},
   "outputs": [],
   "source": [
    "class NeuralNet(nn.Module):\n",
    "    def __init__(self):\n",
    "        super().__init__()\n",
    "        self.flatten = nn.Flatten()\n",
    "        self.linear_relu_stack = nn.Sequential(\n",
    "            nn.Linear(28*28, 512),\n",
    "            nn.ReLU(),\n",
    "            nn.Linear(512, 128),\n",
    "            nn.ReLU(),\n",
    "            nn.Linear(128, 10)\n",
    "        )\n",
    "    \n",
    "    def forward(self, x):\n",
    "        x = self.flatten(x)\n",
    "        x = self.linear_relu_stack(x)\n",
    "        return x"
   ]
  },
  {
   "cell_type": "code",
   "execution_count": 31,
   "metadata": {},
   "outputs": [
    {
     "name": "stdout",
     "output_type": "stream",
     "text": [
      "NeuralNet(\n",
      "  (flatten): Flatten(start_dim=1, end_dim=-1)\n",
      "  (linear_relu_stack): Sequential(\n",
      "    (0): Linear(in_features=784, out_features=512, bias=True)\n",
      "    (1): ReLU()\n",
      "    (2): Linear(in_features=512, out_features=128, bias=True)\n",
      "    (3): ReLU()\n",
      "    (4): Linear(in_features=128, out_features=10, bias=True)\n",
      "  )\n",
      ")\n"
     ]
    }
   ],
   "source": [
    "model = NeuralNet().to(device)\n",
    "print(model)"
   ]
  },
  {
   "cell_type": "code",
   "execution_count": 35,
   "metadata": {},
   "outputs": [
    {
     "name": "stdout",
     "output_type": "stream",
     "text": [
      "torch.Size([1, 10])\n",
      "tensor([[-0.0469, -0.0131, -0.0114, -0.1175, -0.0263, -0.0043, -0.0094, -0.1054,\n",
      "         -0.0247,  0.0211]], device='cuda:0', grad_fn=<AddmmBackward0>)\n",
      "tensor([[0.0986, 0.1020, 0.1022, 0.0919, 0.1007, 0.1029, 0.1024, 0.0930, 0.1008,\n",
      "         0.1056]], device='cuda:0', grad_fn=<SoftmaxBackward0>)\n",
      "tensor(1., device='cuda:0', grad_fn=<SumBackward0>)\n",
      "tensor([9], device='cuda:0')\n"
     ]
    }
   ],
   "source": [
    "X = torch.rand(1, 28, 28, device=device)\n",
    "logits = model(X)\n",
    "print(logits.shape)\n",
    "print(logits)\n",
    "\n",
    "pred_prob = nn.Softmax(dim=1)(logits)\n",
    "y_pred = pred_prob.argmax(1)\n",
    "print(pred_prob)\n",
    "print(pred_prob.sum())\n",
    "print(y_pred)"
   ]
  },
  {
   "cell_type": "code",
   "execution_count": 42,
   "metadata": {},
   "outputs": [
    {
     "name": "stdout",
     "output_type": "stream",
     "text": [
      "Original Size : torch.Size([3, 28, 28])\n",
      "Flat size : torch.Size([3, 784])\n",
      "Hidden size : torch.Size([3, 28])\n",
      "Before Relu : tensor([[ 0.0246, -0.1460, -0.2210,  0.3063, -0.2319,  0.2471, -0.3588, -0.0954,\n",
      "         -0.3542,  0.3738, -0.5713,  0.0529, -0.1474,  0.3743, -0.1956,  0.3246,\n",
      "          0.1769, -0.1446,  0.4939, -0.3623, -0.2797, -0.3320,  0.0404,  0.5574,\n",
      "          0.2606,  0.3068,  0.0141,  0.2817],\n",
      "        [ 0.3267, -0.1262, -0.1797,  0.1549, -0.1239,  0.3923, -0.0423, -0.0823,\n",
      "         -0.2005,  0.4608, -0.4206,  0.1234,  0.0408,  0.1673, -0.1634,  0.7539,\n",
      "          0.3954, -0.2185,  0.1165, -0.2312, -0.0386,  0.0400, -0.5248,  0.8528,\n",
      "          0.5579,  0.5870,  0.2522,  0.1082],\n",
      "        [-0.0268,  0.1368, -0.3295,  0.1746, -0.2793,  0.3464, -0.5298, -0.1751,\n",
      "         -0.5250,  0.1332, -0.4482,  0.2472,  0.1984,  0.0747,  0.1049,  0.2801,\n",
      "          0.6924, -0.1598,  0.1150, -0.0361, -0.2711, -0.3448, -0.5313,  0.9680,\n",
      "          0.2371,  0.2468, -0.1087,  0.2984]], grad_fn=<AddmmBackward0>)\n",
      "\n",
      "\n",
      "After Relu : tensor([[0.0246, 0.0000, 0.0000, 0.3063, 0.0000, 0.2471, 0.0000, 0.0000, 0.0000,\n",
      "         0.3738, 0.0000, 0.0529, 0.0000, 0.3743, 0.0000, 0.3246, 0.1769, 0.0000,\n",
      "         0.4939, 0.0000, 0.0000, 0.0000, 0.0404, 0.5574, 0.2606, 0.3068, 0.0141,\n",
      "         0.2817],\n",
      "        [0.3267, 0.0000, 0.0000, 0.1549, 0.0000, 0.3923, 0.0000, 0.0000, 0.0000,\n",
      "         0.4608, 0.0000, 0.1234, 0.0408, 0.1673, 0.0000, 0.7539, 0.3954, 0.0000,\n",
      "         0.1165, 0.0000, 0.0000, 0.0400, 0.0000, 0.8528, 0.5579, 0.5870, 0.2522,\n",
      "         0.1082],\n",
      "        [0.0000, 0.1368, 0.0000, 0.1746, 0.0000, 0.3464, 0.0000, 0.0000, 0.0000,\n",
      "         0.1332, 0.0000, 0.2472, 0.1984, 0.0747, 0.1049, 0.2801, 0.6924, 0.0000,\n",
      "         0.1150, 0.0000, 0.0000, 0.0000, 0.0000, 0.9680, 0.2371, 0.2468, 0.0000,\n",
      "         0.2984]], grad_fn=<ReluBackward0>)\n"
     ]
    }
   ],
   "source": [
    "input_image = torch.rand(3, 28, 28)\n",
    "print(f'Original Size : {input_image.size()}')\n",
    "\n",
    "flat_image = nn.Flatten()(input_image)\n",
    "print(f'Flat size : {flat_image.size()}')\n",
    "\n",
    "hidden1 = nn.Linear(in_features=28*28, out_features=28)(flat_image)\n",
    "print(f'Hidden size : {hidden1.size()}')\n",
    "\n",
    "print(f'Before Relu : {hidden1}\\n\\n')\n",
    "hidden1 = nn.ReLU()(hidden1)\n",
    "print(f'After Relu : {hidden1}')"
   ]
  },
  {
   "cell_type": "code",
   "execution_count": 45,
   "metadata": {},
   "outputs": [
    {
     "name": "stdout",
     "output_type": "stream",
     "text": [
      "Layer : linear_relu_stack.0.weight | Size : torch.Size([512, 784]) | values : tensor([[ 0.0094, -0.0276,  0.0130,  ..., -0.0263,  0.0070, -0.0331],\n",
      "        [-0.0166,  0.0083,  0.0020,  ...,  0.0244,  0.0115, -0.0180]],\n",
      "       device='cuda:0', grad_fn=<SliceBackward0>)\n",
      "\n",
      "Layer : linear_relu_stack.0.bias | Size : torch.Size([512]) | values : tensor([-0.0123,  0.0171], device='cuda:0', grad_fn=<SliceBackward0>)\n",
      "\n",
      "Layer : linear_relu_stack.2.weight | Size : torch.Size([128, 512]) | values : tensor([[-0.0096, -0.0143, -0.0147,  ..., -0.0361, -0.0298,  0.0207],\n",
      "        [ 0.0050, -0.0275, -0.0427,  ...,  0.0302,  0.0137, -0.0315]],\n",
      "       device='cuda:0', grad_fn=<SliceBackward0>)\n",
      "\n",
      "Layer : linear_relu_stack.2.bias | Size : torch.Size([128]) | values : tensor([0.0305, 0.0063], device='cuda:0', grad_fn=<SliceBackward0>)\n",
      "\n",
      "Layer : linear_relu_stack.4.weight | Size : torch.Size([10, 128]) | values : tensor([[-0.0237,  0.0354, -0.0048,  0.0139, -0.0834,  0.0671, -0.0275,  0.0732,\n",
      "          0.0106, -0.0259, -0.0723, -0.0096, -0.0425, -0.0722, -0.0448,  0.0499,\n",
      "          0.0874, -0.0134, -0.0384,  0.0512, -0.0704,  0.0772, -0.0572,  0.0874,\n",
      "         -0.0309,  0.0749,  0.0049,  0.0534,  0.0214, -0.0707,  0.0361,  0.0256,\n",
      "          0.0841, -0.0082, -0.0509, -0.0529,  0.0260,  0.0707,  0.0778, -0.0745,\n",
      "          0.0488,  0.0423,  0.0118,  0.0346,  0.0408, -0.0682, -0.0759, -0.0607,\n",
      "         -0.0278, -0.0594,  0.0195, -0.0417, -0.0660, -0.0503, -0.0069,  0.0254,\n",
      "         -0.0426, -0.0882, -0.0264,  0.0151, -0.0463,  0.0707,  0.0561,  0.0323,\n",
      "         -0.0659,  0.0051, -0.0433,  0.0214, -0.0446, -0.0499,  0.0513,  0.0103,\n",
      "         -0.0258, -0.0625, -0.0340,  0.0391, -0.0342,  0.0017, -0.0603,  0.0233,\n",
      "          0.0535,  0.0307, -0.0755,  0.0731,  0.0565, -0.0017,  0.0835, -0.0783,\n",
      "         -0.0096, -0.0369, -0.0040,  0.0254,  0.0843,  0.0742, -0.0786, -0.0756,\n",
      "         -0.0697, -0.0453,  0.0413,  0.0016,  0.0427, -0.0336,  0.0072,  0.0561,\n",
      "          0.0878, -0.0424,  0.0234,  0.0839, -0.0371, -0.0142, -0.0179, -0.0595,\n",
      "          0.0711,  0.0685,  0.0069,  0.0591, -0.0802, -0.0748, -0.0437,  0.0479,\n",
      "          0.0049, -0.0862, -0.0143, -0.0401,  0.0613,  0.0610,  0.0169, -0.0700],\n",
      "        [-0.0848, -0.0061, -0.0082,  0.0863, -0.0006,  0.0572,  0.0307,  0.0839,\n",
      "         -0.0043, -0.0710,  0.0051,  0.0795, -0.0728,  0.0290, -0.0802,  0.0545,\n",
      "          0.0696, -0.0183,  0.0171, -0.0237, -0.0713, -0.0120,  0.0310,  0.0472,\n",
      "         -0.0590,  0.0054, -0.0615,  0.0060, -0.0515,  0.0661,  0.0159,  0.0644,\n",
      "         -0.0592, -0.0655, -0.0588,  0.0726,  0.0502,  0.0304, -0.0283, -0.0158,\n",
      "         -0.0275,  0.0718,  0.0577,  0.0711, -0.0174,  0.0148,  0.0829, -0.0311,\n",
      "          0.0446, -0.0528, -0.0806, -0.0229,  0.0668, -0.0761, -0.0836, -0.0700,\n",
      "         -0.0289,  0.0697,  0.0672, -0.0675,  0.0632, -0.0043,  0.0393,  0.0573,\n",
      "          0.0084, -0.0723, -0.0060, -0.0708,  0.0515, -0.0702,  0.0515,  0.0363,\n",
      "         -0.0156,  0.0338,  0.0331,  0.0181,  0.0583,  0.0790, -0.0329, -0.0620,\n",
      "          0.0819,  0.0750,  0.0328,  0.0213, -0.0588, -0.0060, -0.0787,  0.0140,\n",
      "          0.0675, -0.0251, -0.0285, -0.0168,  0.0297, -0.0633,  0.0077,  0.0850,\n",
      "         -0.0530, -0.0773,  0.0766, -0.0817,  0.0126,  0.0054,  0.0514,  0.0642,\n",
      "         -0.0492,  0.0274,  0.0298,  0.0278, -0.0556,  0.0729, -0.0184, -0.0869,\n",
      "          0.0629, -0.0715,  0.0386,  0.0068,  0.0549,  0.0245,  0.0531,  0.0257,\n",
      "          0.0561,  0.0819, -0.0063,  0.0021, -0.0619,  0.0075,  0.0562,  0.0620]],\n",
      "       device='cuda:0', grad_fn=<SliceBackward0>)\n",
      "\n",
      "Layer : linear_relu_stack.4.bias | Size : torch.Size([10]) | values : tensor([-0.0050, -0.0533], device='cuda:0', grad_fn=<SliceBackward0>)\n",
      "\n"
     ]
    }
   ],
   "source": [
    "for name, param in model.named_parameters():\n",
    "    print(f'Layer : {name} | Size : {param.size()} | values : {param[:2]}\\n')"
   ]
  },
  {
   "cell_type": "markdown",
   "metadata": {},
   "source": [
    "# 4. Optimize"
   ]
  },
  {
   "cell_type": "code",
   "execution_count": 47,
   "metadata": {},
   "outputs": [],
   "source": [
    "import torch\n",
    "from torch import nn\n",
    "from torch.utils.data import DataLoader, Dataset\n",
    "from torchvision import datasets\n",
    "from torchvision.transforms import ToTensor"
   ]
  },
  {
   "cell_type": "code",
   "execution_count": 80,
   "metadata": {},
   "outputs": [],
   "source": [
    "training_data = datasets.FashionMNIST(root='../../data/', \n",
    "                                      download=True,\n",
    "                                      train=True,\n",
    "                                      transform=ToTensor())\n",
    "\n",
    "test_data = datasets.FashionMNIST(root='../../data/',\n",
    "                                  download=True,\n",
    "                                  train=False,\n",
    "                                  transform=ToTensor())\n",
    "\n",
    "train_dataloader = DataLoader(training_data, batch_size=64)\n",
    "test_dataloader = DataLoader(test_data, batch_size=64)\n",
    "\n",
    "class NeuralNet(nn.Module):\n",
    "    def __init__(self):\n",
    "        super(NeuralNet, self).__init__()\n",
    "        self.flatten = nn.Flatten()\n",
    "        self.linear_relu_stack = nn.Sequential(\n",
    "            nn.Linear(28*28, 256),\n",
    "            nn.ReLU(),\n",
    "            nn.Linear(256, 128),\n",
    "            nn.ReLU(),\n",
    "            nn.Linear(128, 32),\n",
    "            nn.ReLU(),\n",
    "            nn.Linear(32, 10)\n",
    "        )\n",
    "    \n",
    "    def forward(self, x):\n",
    "        x = self.flatten(x)\n",
    "        x = self.linear_relu_stack(x)\n",
    "        return x"
   ]
  },
  {
   "cell_type": "code",
   "execution_count": 81,
   "metadata": {},
   "outputs": [],
   "source": [
    "device = 'cuda' if torch.cuda.is_available() else 'cpu'\n",
    "model = NeuralNet().to(device)\n",
    "batch_size = 64\n",
    "learning_rate = 1e-3\n",
    "epochs = 10"
   ]
  },
  {
   "cell_type": "code",
   "execution_count": 82,
   "metadata": {},
   "outputs": [],
   "source": [
    "loss_fn = nn.CrossEntropyLoss()\n",
    "optimizer = torch.optim.SGD(model.parameters(), lr=learning_rate)"
   ]
  },
  {
   "cell_type": "code",
   "execution_count": 83,
   "metadata": {},
   "outputs": [],
   "source": [
    "def train_loop(dataloader, model, loss_fn, optimizer):\n",
    "    size = len(dataloader.dataset)\n",
    "    for batch, (x, y) in enumerate(dataloader):\n",
    "        x, y = x.to(device), y.to(device)\n",
    "        pred = model(x)\n",
    "        loss = loss_fn(pred, y)\n",
    "\n",
    "        optimizer.zero_grad()\n",
    "        loss.backward()\n",
    "        optimizer.step()\n",
    "\n",
    "        if batch % 100 == 0:\n",
    "            loss, current = loss.item(), (batch+1) * len(x)\n",
    "            print(f'loss : {loss:>.7f}\\t| {current:>5d}/{size:>5d}')\n",
    "\n",
    "def test_loop(dataloader, model, loss_fn):\n",
    "    size = len(dataloader.dataset)\n",
    "    num_batches = len(dataloader)\n",
    "    test_loss, correct = 0, 0\n",
    "\n",
    "    with torch.no_grad():\n",
    "        for x, y in dataloader:\n",
    "            x, y = x.to(device), y.to(device)\n",
    "            pred = model(x)\n",
    "            test_loss += loss_fn(pred, y).item()\n",
    "            correct += (pred.argmax(1)==y).type(torch.float).sum().item()\n",
    "    test_loss /= num_batches\n",
    "    correct /= size\n",
    "    print(f'Test Error : \\n Accuracy : {100*correct:>0.1f}%\\t | Avg Loss : {test_loss:>8f}\\n')"
   ]
  },
  {
   "cell_type": "code",
   "execution_count": 84,
   "metadata": {},
   "outputs": [
    {
     "name": "stdout",
     "output_type": "stream",
     "text": [
      "Epoch 1\n",
      "------------------------------\n",
      "loss : 2.2977393\t|    64/60000\n",
      "loss : 2.3001947\t|  6464/60000\n",
      "loss : 2.3128366\t| 12864/60000\n",
      "loss : 2.3160841\t| 19264/60000\n",
      "loss : 2.3024893\t| 25664/60000\n",
      "loss : 2.3065763\t| 32064/60000\n",
      "loss : 2.2825572\t| 38464/60000\n",
      "loss : 2.2922947\t| 44864/60000\n",
      "loss : 2.2932279\t| 51264/60000\n",
      "loss : 2.2811742\t| 57664/60000\n",
      "Test Error : \n",
      " Accuracy : 10.0%\t | Avg Loss : 2.294914\n",
      "\n",
      "Epoch 2\n",
      "------------------------------\n",
      "loss : 2.2878039\t|    64/60000\n",
      "loss : 2.2900193\t|  6464/60000\n",
      "loss : 2.3003912\t| 12864/60000\n",
      "loss : 2.3065441\t| 19264/60000\n",
      "loss : 2.2881198\t| 25664/60000\n",
      "loss : 2.2955248\t| 32064/60000\n",
      "loss : 2.2726622\t| 38464/60000\n",
      "loss : 2.2811069\t| 44864/60000\n",
      "loss : 2.2816279\t| 51264/60000\n",
      "loss : 2.2726204\t| 57664/60000\n",
      "Test Error : \n",
      " Accuracy : 15.0%\t | Avg Loss : 2.281559\n",
      "\n",
      "Epoch 3\n",
      "------------------------------\n",
      "loss : 2.2764473\t|    64/60000\n",
      "loss : 2.2765284\t|  6464/60000\n",
      "loss : 2.2840359\t| 12864/60000\n",
      "loss : 2.2914610\t| 19264/60000\n",
      "loss : 2.2690473\t| 25664/60000\n",
      "loss : 2.2813208\t| 32064/60000\n",
      "loss : 2.2575195\t| 38464/60000\n",
      "loss : 2.2657993\t| 44864/60000\n",
      "loss : 2.2645581\t| 51264/60000\n",
      "loss : 2.2584321\t| 57664/60000\n",
      "Test Error : \n",
      " Accuracy : 18.1%\t | Avg Loss : 2.261406\n",
      "\n",
      "Epoch 4\n",
      "------------------------------\n",
      "loss : 2.2595241\t|    64/60000\n",
      "loss : 2.2556477\t|  6464/60000\n",
      "loss : 2.2607439\t| 12864/60000\n",
      "loss : 2.2690973\t| 19264/60000\n",
      "loss : 2.2413869\t| 25664/60000\n",
      "loss : 2.2589827\t| 32064/60000\n",
      "loss : 2.2337313\t| 38464/60000\n",
      "loss : 2.2416978\t| 44864/60000\n",
      "loss : 2.2373588\t| 51264/60000\n",
      "loss : 2.2339563\t| 57664/60000\n",
      "Test Error : \n",
      " Accuracy : 23.6%\t | Avg Loss : 2.229617\n",
      "\n",
      "Epoch 5\n",
      "------------------------------\n",
      "loss : 2.2326336\t|    64/60000\n",
      "loss : 2.2235546\t|  6464/60000\n",
      "loss : 2.2251523\t| 12864/60000\n",
      "loss : 2.2331531\t| 19264/60000\n",
      "loss : 2.1969862\t| 25664/60000\n",
      "loss : 2.2206185\t| 32064/60000\n",
      "loss : 2.1922631\t| 38464/60000\n",
      "loss : 2.1996932\t| 44864/60000\n",
      "loss : 2.1891656\t| 51264/60000\n",
      "loss : 2.1856892\t| 57664/60000\n",
      "Test Error : \n",
      " Accuracy : 34.2%\t | Avg Loss : 2.174141\n",
      "\n",
      "Epoch 6\n",
      "------------------------------\n",
      "loss : 2.1869175\t|    64/60000\n",
      "loss : 2.1713586\t|  6464/60000\n",
      "loss : 2.1651440\t| 12864/60000\n",
      "loss : 2.1693144\t| 19264/60000\n",
      "loss : 2.1219561\t| 25664/60000\n",
      "loss : 2.1502047\t| 32064/60000\n",
      "loss : 2.1169806\t| 38464/60000\n",
      "loss : 2.1203208\t| 44864/60000\n",
      "loss : 2.0990949\t| 51264/60000\n",
      "loss : 2.0893190\t| 57664/60000\n",
      "Test Error : \n",
      " Accuracy : 37.8%\t | Avg Loss : 2.074849\n",
      "\n",
      "Epoch 7\n",
      "------------------------------\n",
      "loss : 2.1037593\t|    64/60000\n",
      "loss : 2.0833130\t|  6464/60000\n",
      "loss : 2.0598540\t| 12864/60000\n",
      "loss : 2.0564721\t| 19264/60000\n",
      "loss : 1.9939635\t| 25664/60000\n",
      "loss : 2.0211556\t| 32064/60000\n",
      "loss : 1.9814165\t| 38464/60000\n",
      "loss : 1.9702789\t| 44864/60000\n",
      "loss : 1.9353048\t| 51264/60000\n",
      "loss : 1.9099874\t| 57664/60000\n",
      "Test Error : \n",
      " Accuracy : 48.0%\t | Avg Loss : 1.902560\n",
      "\n",
      "Epoch 8\n",
      "------------------------------\n",
      "loss : 1.9603729\t|    64/60000\n",
      "loss : 1.9372739\t|  6464/60000\n",
      "loss : 1.8713990\t| 12864/60000\n",
      "loss : 1.8631144\t| 19264/60000\n",
      "loss : 1.7825667\t| 25664/60000\n",
      "loss : 1.8023456\t| 32064/60000\n",
      "loss : 1.7573922\t| 38464/60000\n",
      "loss : 1.7145295\t| 44864/60000\n",
      "loss : 1.6766601\t| 51264/60000\n",
      "loss : 1.6364825\t| 57664/60000\n",
      "Test Error : \n",
      " Accuracy : 53.4%\t | Avg Loss : 1.636407\n",
      "\n",
      "Epoch 9\n",
      "------------------------------\n",
      "loss : 1.7279841\t|    64/60000\n",
      "loss : 1.6945394\t|  6464/60000\n",
      "loss : 1.5627171\t| 12864/60000\n",
      "loss : 1.5866901\t| 19264/60000\n",
      "loss : 1.4536631\t| 25664/60000\n",
      "loss : 1.4929856\t| 32064/60000\n",
      "loss : 1.4515593\t| 38464/60000\n",
      "loss : 1.3755300\t| 44864/60000\n",
      "loss : 1.3648529\t| 51264/60000\n",
      "loss : 1.3164935\t| 57664/60000\n",
      "Test Error : \n",
      " Accuracy : 56.1%\t | Avg Loss : 1.323748\n",
      "\n",
      "Epoch 10\n",
      "------------------------------\n",
      "loss : 1.4368446\t|    64/60000\n",
      "loss : 1.3894209\t|  6464/60000\n",
      "loss : 1.2245183\t| 12864/60000\n",
      "loss : 1.3104615\t| 19264/60000\n",
      "loss : 1.1571927\t| 25664/60000\n",
      "loss : 1.2229232\t| 32064/60000\n",
      "loss : 1.2030280\t| 38464/60000\n",
      "loss : 1.1229832\t| 44864/60000\n",
      "loss : 1.1442509\t| 51264/60000\n",
      "loss : 1.1159832\t| 57664/60000\n",
      "Test Error : \n",
      " Accuracy : 58.8%\t | Avg Loss : 1.122790\n",
      "\n",
      "Done!\n"
     ]
    }
   ],
   "source": [
    "for epoch in range(epochs):\n",
    "    print(f'Epoch {epoch+1}\\n------------------------------')\n",
    "    train_loop(train_dataloader, model, loss_fn, optimizer)\n",
    "    test_loop(test_dataloader, model, loss_fn)\n",
    "print('Done!')"
   ]
  },
  {
   "cell_type": "markdown",
   "metadata": {},
   "source": [
    "# 5. Save & Load"
   ]
  },
  {
   "cell_type": "code",
   "execution_count": 87,
   "metadata": {},
   "outputs": [],
   "source": [
    "import torchvision.models as models\n",
    "\n",
    "model = models.vgg16(weights='IMAGENET1K_V1')\n",
    "torch.save(model.state_dict(), './model/model_weights.pth')"
   ]
  },
  {
   "cell_type": "code",
   "execution_count": 88,
   "metadata": {},
   "outputs": [
    {
     "data": {
      "text/plain": [
       "VGG(\n",
       "  (features): Sequential(\n",
       "    (0): Conv2d(3, 64, kernel_size=(3, 3), stride=(1, 1), padding=(1, 1))\n",
       "    (1): ReLU(inplace=True)\n",
       "    (2): Conv2d(64, 64, kernel_size=(3, 3), stride=(1, 1), padding=(1, 1))\n",
       "    (3): ReLU(inplace=True)\n",
       "    (4): MaxPool2d(kernel_size=2, stride=2, padding=0, dilation=1, ceil_mode=False)\n",
       "    (5): Conv2d(64, 128, kernel_size=(3, 3), stride=(1, 1), padding=(1, 1))\n",
       "    (6): ReLU(inplace=True)\n",
       "    (7): Conv2d(128, 128, kernel_size=(3, 3), stride=(1, 1), padding=(1, 1))\n",
       "    (8): ReLU(inplace=True)\n",
       "    (9): MaxPool2d(kernel_size=2, stride=2, padding=0, dilation=1, ceil_mode=False)\n",
       "    (10): Conv2d(128, 256, kernel_size=(3, 3), stride=(1, 1), padding=(1, 1))\n",
       "    (11): ReLU(inplace=True)\n",
       "    (12): Conv2d(256, 256, kernel_size=(3, 3), stride=(1, 1), padding=(1, 1))\n",
       "    (13): ReLU(inplace=True)\n",
       "    (14): Conv2d(256, 256, kernel_size=(3, 3), stride=(1, 1), padding=(1, 1))\n",
       "    (15): ReLU(inplace=True)\n",
       "    (16): MaxPool2d(kernel_size=2, stride=2, padding=0, dilation=1, ceil_mode=False)\n",
       "    (17): Conv2d(256, 512, kernel_size=(3, 3), stride=(1, 1), padding=(1, 1))\n",
       "    (18): ReLU(inplace=True)\n",
       "    (19): Conv2d(512, 512, kernel_size=(3, 3), stride=(1, 1), padding=(1, 1))\n",
       "    (20): ReLU(inplace=True)\n",
       "    (21): Conv2d(512, 512, kernel_size=(3, 3), stride=(1, 1), padding=(1, 1))\n",
       "    (22): ReLU(inplace=True)\n",
       "    (23): MaxPool2d(kernel_size=2, stride=2, padding=0, dilation=1, ceil_mode=False)\n",
       "    (24): Conv2d(512, 512, kernel_size=(3, 3), stride=(1, 1), padding=(1, 1))\n",
       "    (25): ReLU(inplace=True)\n",
       "    (26): Conv2d(512, 512, kernel_size=(3, 3), stride=(1, 1), padding=(1, 1))\n",
       "    (27): ReLU(inplace=True)\n",
       "    (28): Conv2d(512, 512, kernel_size=(3, 3), stride=(1, 1), padding=(1, 1))\n",
       "    (29): ReLU(inplace=True)\n",
       "    (30): MaxPool2d(kernel_size=2, stride=2, padding=0, dilation=1, ceil_mode=False)\n",
       "  )\n",
       "  (avgpool): AdaptiveAvgPool2d(output_size=(7, 7))\n",
       "  (classifier): Sequential(\n",
       "    (0): Linear(in_features=25088, out_features=4096, bias=True)\n",
       "    (1): ReLU(inplace=True)\n",
       "    (2): Dropout(p=0.5, inplace=False)\n",
       "    (3): Linear(in_features=4096, out_features=4096, bias=True)\n",
       "    (4): ReLU(inplace=True)\n",
       "    (5): Dropout(p=0.5, inplace=False)\n",
       "    (6): Linear(in_features=4096, out_features=1000, bias=True)\n",
       "  )\n",
       ")"
      ]
     },
     "execution_count": 88,
     "metadata": {},
     "output_type": "execute_result"
    }
   ],
   "source": [
    "model = models.vgg16()\n",
    "model.load_state_dict(torch.load('./model/model_weights.pth'))\n",
    "model.eval()"
   ]
  },
  {
   "cell_type": "code",
   "execution_count": null,
   "metadata": {},
   "outputs": [],
   "source": []
  },
  {
   "cell_type": "code",
   "execution_count": null,
   "metadata": {},
   "outputs": [],
   "source": []
  },
  {
   "cell_type": "code",
   "execution_count": null,
   "metadata": {},
   "outputs": [],
   "source": []
  },
  {
   "cell_type": "code",
   "execution_count": null,
   "metadata": {},
   "outputs": [],
   "source": []
  },
  {
   "cell_type": "code",
   "execution_count": null,
   "metadata": {},
   "outputs": [],
   "source": []
  },
  {
   "cell_type": "code",
   "execution_count": null,
   "metadata": {},
   "outputs": [],
   "source": []
  },
  {
   "cell_type": "code",
   "execution_count": null,
   "metadata": {},
   "outputs": [],
   "source": []
  },
  {
   "cell_type": "code",
   "execution_count": null,
   "metadata": {},
   "outputs": [],
   "source": []
  },
  {
   "cell_type": "code",
   "execution_count": null,
   "metadata": {},
   "outputs": [],
   "source": []
  },
  {
   "cell_type": "code",
   "execution_count": null,
   "metadata": {},
   "outputs": [],
   "source": []
  },
  {
   "cell_type": "code",
   "execution_count": null,
   "metadata": {},
   "outputs": [],
   "source": []
  },
  {
   "cell_type": "code",
   "execution_count": null,
   "metadata": {},
   "outputs": [],
   "source": []
  },
  {
   "cell_type": "code",
   "execution_count": null,
   "metadata": {},
   "outputs": [],
   "source": []
  },
  {
   "cell_type": "code",
   "execution_count": null,
   "metadata": {},
   "outputs": [],
   "source": []
  },
  {
   "cell_type": "code",
   "execution_count": null,
   "metadata": {},
   "outputs": [],
   "source": []
  },
  {
   "cell_type": "code",
   "execution_count": null,
   "metadata": {},
   "outputs": [],
   "source": []
  },
  {
   "cell_type": "code",
   "execution_count": null,
   "metadata": {},
   "outputs": [],
   "source": []
  },
  {
   "cell_type": "code",
   "execution_count": null,
   "metadata": {},
   "outputs": [],
   "source": []
  },
  {
   "cell_type": "code",
   "execution_count": null,
   "metadata": {},
   "outputs": [],
   "source": []
  },
  {
   "cell_type": "code",
   "execution_count": null,
   "metadata": {},
   "outputs": [],
   "source": []
  },
  {
   "cell_type": "code",
   "execution_count": null,
   "metadata": {},
   "outputs": [],
   "source": []
  },
  {
   "cell_type": "code",
   "execution_count": null,
   "metadata": {},
   "outputs": [],
   "source": []
  },
  {
   "cell_type": "code",
   "execution_count": null,
   "metadata": {},
   "outputs": [],
   "source": []
  },
  {
   "cell_type": "code",
   "execution_count": null,
   "metadata": {},
   "outputs": [],
   "source": []
  },
  {
   "cell_type": "code",
   "execution_count": null,
   "metadata": {},
   "outputs": [],
   "source": []
  },
  {
   "cell_type": "code",
   "execution_count": null,
   "metadata": {},
   "outputs": [],
   "source": []
  },
  {
   "cell_type": "code",
   "execution_count": null,
   "metadata": {},
   "outputs": [],
   "source": []
  },
  {
   "cell_type": "code",
   "execution_count": null,
   "metadata": {},
   "outputs": [],
   "source": []
  },
  {
   "cell_type": "code",
   "execution_count": null,
   "metadata": {},
   "outputs": [],
   "source": []
  },
  {
   "cell_type": "code",
   "execution_count": null,
   "metadata": {},
   "outputs": [],
   "source": []
  },
  {
   "cell_type": "code",
   "execution_count": null,
   "metadata": {},
   "outputs": [],
   "source": []
  },
  {
   "cell_type": "code",
   "execution_count": null,
   "metadata": {},
   "outputs": [],
   "source": []
  },
  {
   "cell_type": "code",
   "execution_count": null,
   "metadata": {},
   "outputs": [],
   "source": []
  },
  {
   "cell_type": "code",
   "execution_count": null,
   "metadata": {},
   "outputs": [],
   "source": []
  },
  {
   "cell_type": "code",
   "execution_count": null,
   "metadata": {},
   "outputs": [],
   "source": []
  },
  {
   "cell_type": "code",
   "execution_count": null,
   "metadata": {},
   "outputs": [],
   "source": []
  },
  {
   "cell_type": "code",
   "execution_count": null,
   "metadata": {},
   "outputs": [],
   "source": []
  },
  {
   "cell_type": "code",
   "execution_count": null,
   "metadata": {},
   "outputs": [],
   "source": []
  },
  {
   "cell_type": "code",
   "execution_count": null,
   "metadata": {},
   "outputs": [],
   "source": []
  },
  {
   "cell_type": "code",
   "execution_count": null,
   "metadata": {},
   "outputs": [],
   "source": []
  },
  {
   "cell_type": "code",
   "execution_count": null,
   "metadata": {},
   "outputs": [],
   "source": []
  },
  {
   "cell_type": "code",
   "execution_count": null,
   "metadata": {},
   "outputs": [],
   "source": []
  },
  {
   "cell_type": "code",
   "execution_count": null,
   "metadata": {},
   "outputs": [],
   "source": []
  }
 ],
 "metadata": {
  "kernelspec": {
   "display_name": "venv",
   "language": "python",
   "name": "python3"
  },
  "language_info": {
   "codemirror_mode": {
    "name": "ipython",
    "version": 3
   },
   "file_extension": ".py",
   "mimetype": "text/x-python",
   "name": "python",
   "nbconvert_exporter": "python",
   "pygments_lexer": "ipython3",
   "version": "3.10.11"
  }
 },
 "nbformat": 4,
 "nbformat_minor": 2
}
